{
 "cells": [
  {
   "cell_type": "code",
   "execution_count": 1,
   "id": "f8bdb402",
   "metadata": {
    "_cell_guid": "b1076dfc-b9ad-4769-8c92-a6c4dae69d19",
    "_uuid": "8f2839f25d086af736a60e9eeb907d3b93b6e0e5",
    "execution": {
     "iopub.execute_input": "2022-02-20T06:31:06.627911Z",
     "iopub.status.busy": "2022-02-20T06:31:06.627017Z",
     "iopub.status.idle": "2022-02-20T06:31:06.634283Z",
     "shell.execute_reply": "2022-02-20T06:31:06.633562Z",
     "shell.execute_reply.started": "2022-02-20T06:28:10.484621Z"
    },
    "papermill": {
     "duration": 0.049976,
     "end_time": "2022-02-20T06:31:06.634453",
     "exception": false,
     "start_time": "2022-02-20T06:31:06.584477",
     "status": "completed"
    },
    "tags": []
   },
   "outputs": [
    {
     "name": "stdout",
     "output_type": "stream",
     "text": [
      "/kaggle/input/data-science-london-scikit-learn/trainLabels.csv\n",
      "/kaggle/input/data-science-london-scikit-learn/train.csv\n",
      "/kaggle/input/data-science-london-scikit-learn/test.csv\n"
     ]
    }
   ],
   "source": [
    "# This Python 3 environment comes with many helpful analytics libraries installed\n",
    "# It is defined by the kaggle/python Docker image: https://github.com/kaggle/docker-python\n",
    "# For example, here's several helpful packages to load\n",
    "\n",
    "import numpy as np # linear algebra\n",
    "import pandas as pd # data processing, CSV file I/O (e.g. pd.read_csv)\n",
    "\n",
    "# Input data files are available in the read-only \"../input/\" directory\n",
    "# For example, running this (by clicking run or pressing Shift+Enter) will list all files under the input directory\n",
    "\n",
    "import os\n",
    "for dirname, _, filenames in os.walk('/kaggle/input'):\n",
    "    for filename in filenames:\n",
    "        print(os.path.join(dirname, filename))\n",
    "\n",
    "# You can write up to 20GB to the current directory (/kaggle/working/) that gets preserved as output when you create a version using \"Save & Run All\" \n",
    "# You can also write temporary files to /kaggle/temp/, but they won't be saved outside of the current session"
   ]
  },
  {
   "cell_type": "code",
   "execution_count": 2,
   "id": "0e4b7a35",
   "metadata": {
    "execution": {
     "iopub.execute_input": "2022-02-20T06:31:06.704568Z",
     "iopub.status.busy": "2022-02-20T06:31:06.703857Z",
     "iopub.status.idle": "2022-02-20T06:31:08.310292Z",
     "shell.execute_reply": "2022-02-20T06:31:08.310841Z",
     "shell.execute_reply.started": "2022-02-20T06:28:10.500444Z"
    },
    "papermill": {
     "duration": 1.644331,
     "end_time": "2022-02-20T06:31:08.311032",
     "exception": false,
     "start_time": "2022-02-20T06:31:06.666701",
     "status": "completed"
    },
    "tags": []
   },
   "outputs": [],
   "source": [
    "from pathlib import Path\n",
    "import matplotlib.pyplot as plt\n",
    "from sklearn.neighbors import KNeighborsClassifier\n",
    "from sklearn.ensemble import RandomForestClassifier\n",
    "from sklearn.model_selection import GridSearchCV\n",
    "\n",
    "from sklearn.ensemble import VotingClassifier\n",
    "#from sklearn import svm\n",
    "from sklearn.model_selection import cross_val_score"
   ]
  },
  {
   "cell_type": "code",
   "execution_count": null,
   "id": "4b13f413",
   "metadata": {
    "papermill": {
     "duration": 0.032037,
     "end_time": "2022-02-20T06:31:08.375970",
     "exception": false,
     "start_time": "2022-02-20T06:31:08.343933",
     "status": "completed"
    },
    "tags": []
   },
   "outputs": [],
   "source": []
  },
  {
   "cell_type": "code",
   "execution_count": 3,
   "id": "3f6b1dea",
   "metadata": {
    "execution": {
     "iopub.execute_input": "2022-02-20T06:31:08.450193Z",
     "iopub.status.busy": "2022-02-20T06:31:08.449477Z",
     "iopub.status.idle": "2022-02-20T06:31:08.702671Z",
     "shell.execute_reply": "2022-02-20T06:31:08.703209Z",
     "shell.execute_reply.started": "2022-02-20T06:28:10.511154Z"
    },
    "papermill": {
     "duration": 0.293393,
     "end_time": "2022-02-20T06:31:08.703406",
     "exception": false,
     "start_time": "2022-02-20T06:31:08.410013",
     "status": "completed"
    },
    "tags": []
   },
   "outputs": [],
   "source": [
    "\n",
    "data_dir = Path(\"/kaggle/input/data-science-london-scikit-learn/\")\n",
    "x_train = pd.read_csv(data_dir /'train.csv')\n",
    "y_train = pd.read_csv(data_dir /'trainLabels.csv')\n",
    "x_test = pd.read_csv(data_dir /'test.csv')"
   ]
  },
  {
   "cell_type": "code",
   "execution_count": 4,
   "id": "63c51f05",
   "metadata": {
    "execution": {
     "iopub.execute_input": "2022-02-20T06:31:08.770537Z",
     "iopub.status.busy": "2022-02-20T06:31:08.769746Z",
     "iopub.status.idle": "2022-02-20T06:31:08.775577Z",
     "shell.execute_reply": "2022-02-20T06:31:08.775099Z",
     "shell.execute_reply.started": "2022-02-20T06:28:10.702668Z"
    },
    "papermill": {
     "duration": 0.040391,
     "end_time": "2022-02-20T06:31:08.775699",
     "exception": false,
     "start_time": "2022-02-20T06:31:08.735308",
     "status": "completed"
    },
    "tags": []
   },
   "outputs": [
    {
     "name": "stdout",
     "output_type": "stream",
     "text": [
      "training_x Shape: (999, 40) ,training_y Shape: (999, 1) ,testing_x Shape: (8999, 40)\n"
     ]
    }
   ],
   "source": [
    "\n",
    "print ('training_x Shape:',x_train.shape,',training_y Shape:',y_train.shape, ',testing_x Shape:',x_test.shape)"
   ]
  },
  {
   "cell_type": "code",
   "execution_count": 5,
   "id": "2493fa6d",
   "metadata": {
    "execution": {
     "iopub.execute_input": "2022-02-20T06:31:08.825895Z",
     "iopub.status.busy": "2022-02-20T06:31:08.825152Z",
     "iopub.status.idle": "2022-02-20T06:31:08.832833Z",
     "shell.execute_reply": "2022-02-20T06:31:08.833605Z",
     "shell.execute_reply.started": "2022-02-20T06:28:10.712363Z"
    },
    "papermill": {
     "duration": 0.035587,
     "end_time": "2022-02-20T06:31:08.833834",
     "exception": false,
     "start_time": "2022-02-20T06:31:08.798247",
     "status": "completed"
    },
    "tags": []
   },
   "outputs": [
    {
     "name": "stdout",
     "output_type": "stream",
     "text": [
      "training_x Shape: (999, 40) ,training_y Shape: (999,) ,testing_x Shape: (8999, 40)\n"
     ]
    }
   ],
   "source": [
    "x_train = np.asarray(x_train)\n",
    "y_train = np.asarray(y_train)\n",
    "x_test = np.asarray(x_test)\n",
    "y_train = y_train.ravel()\n",
    "print ('training_x Shape:',x_train.shape,',training_y Shape:',y_train.shape, ',testing_x Shape:',x_test.shape)"
   ]
  },
  {
   "cell_type": "code",
   "execution_count": 6,
   "id": "6c66f51f",
   "metadata": {
    "execution": {
     "iopub.execute_input": "2022-02-20T06:31:08.911304Z",
     "iopub.status.busy": "2022-02-20T06:31:08.905437Z",
     "iopub.status.idle": "2022-02-20T06:31:09.089473Z",
     "shell.execute_reply": "2022-02-20T06:31:09.089901Z",
     "shell.execute_reply.started": "2022-02-20T06:28:10.723949Z"
    },
    "papermill": {
     "duration": 0.22083,
     "end_time": "2022-02-20T06:31:09.090048",
     "exception": false,
     "start_time": "2022-02-20T06:31:08.869218",
     "status": "completed"
    },
    "tags": []
   },
   "outputs": [
    {
     "data": {
      "image/png": "[encoded data removed]",
      "text/plain": [
       "<Figure size 432x288 with 1 Axes>"
      ]
     },
     "metadata": {
      "needs_background": "light"
     },
     "output_type": "display_data"
    }
   ],
   "source": [
    "plt.plot(x_train[:,0], x_train[:,1], 'bx')\n",
    "plt.axis('equal')\n",
    "plt.show()"
   ]
  },
  {
   "cell_type": "code",
   "execution_count": 7,
   "id": "6e550f61",
   "metadata": {
    "execution": {
     "iopub.execute_input": "2022-02-20T06:31:09.139921Z",
     "iopub.status.busy": "2022-02-20T06:31:09.139124Z",
     "iopub.status.idle": "2022-02-20T06:31:09.146614Z",
     "shell.execute_reply": "2022-02-20T06:31:09.146145Z",
     "shell.execute_reply.started": "2022-02-20T06:28:10.924801Z"
    },
    "papermill": {
     "duration": 0.033061,
     "end_time": "2022-02-20T06:31:09.146726",
     "exception": false,
     "start_time": "2022-02-20T06:31:09.113665",
     "status": "completed"
    },
    "tags": []
   },
   "outputs": [
    {
     "name": "stdout",
     "output_type": "stream",
     "text": [
      "x_all shape : (9998, 40)\n"
     ]
    }
   ],
   "source": [
    "x_all = np.r_[x_train,x_test]\n",
    "print( 'x_all shape :',x_all.shape)"
   ]
  },
  {
   "cell_type": "code",
   "execution_count": 8,
   "id": "c9a0c610",
   "metadata": {
    "execution": {
     "iopub.execute_input": "2022-02-20T06:31:09.203710Z",
     "iopub.status.busy": "2022-02-20T06:31:09.197608Z",
     "iopub.status.idle": "2022-02-20T06:31:40.961485Z",
     "shell.execute_reply": "2022-02-20T06:31:40.962557Z",
     "shell.execute_reply.started": "2022-02-20T06:28:10.935919Z"
    },
    "papermill": {
     "duration": 31.79266,
     "end_time": "2022-02-20T06:31:40.962737",
     "exception": false,
     "start_time": "2022-02-20T06:31:09.170077",
     "status": "completed"
    },
    "tags": []
   },
   "outputs": [],
   "source": [
    "#Preprocessing - Reduce the 40D data to 4D as identified the best no of components  = 4\n",
    "from sklearn.mixture import GaussianMixture\n",
    "lowest_bic = np.infty\n",
    "bic = []\n",
    "n_components_range = range(1, 7)\n",
    "cv_types = ['spherical', 'tied', 'diag', 'full']\n",
    "for cv_type in cv_types:\n",
    "    for n_components in n_components_range:\n",
    "        # Fit a mixture of Gaussians with EM\n",
    "        gmm = GaussianMixture(n_components=n_components,covariance_type=cv_type)\n",
    "        gmm.fit(x_all)\n",
    "        bic.append(gmm.aic(x_all))\n",
    "        if bic[-1] < lowest_bic:\n",
    "            lowest_bic = bic[-1]\n",
    "            best_gmm = gmm\n",
    "            \n",
    "best_gmm.fit(x_all)\n",
    "x_train = best_gmm.predict_proba(x_train)\n",
    "x_test = best_gmm.predict_proba(x_test)"
   ]
  },
  {
   "cell_type": "code",
   "execution_count": 9,
   "id": "0895c3d3",
   "metadata": {
    "execution": {
     "iopub.execute_input": "2022-02-20T06:31:41.074819Z",
     "iopub.status.busy": "2022-02-20T06:31:41.074087Z",
     "iopub.status.idle": "2022-02-20T06:31:41.077629Z",
     "shell.execute_reply": "2022-02-20T06:31:41.077041Z",
     "shell.execute_reply.started": "2022-02-20T06:28:43.619964Z"
    },
    "papermill": {
     "duration": 0.064743,
     "end_time": "2022-02-20T06:31:41.077785",
     "exception": false,
     "start_time": "2022-02-20T06:31:41.013042",
     "status": "completed"
    },
    "tags": []
   },
   "outputs": [
    {
     "name": "stdout",
     "output_type": "stream",
     "text": [
      "(999, 4)\n",
      "(8999, 4)\n"
     ]
    }
   ],
   "source": [
    "print(x_train.shape)\n",
    "print(x_test.shape)"
   ]
  },
  {
   "cell_type": "code",
   "execution_count": 10,
   "id": "023c6dd4",
   "metadata": {
    "execution": {
     "iopub.execute_input": "2022-02-20T06:31:41.166267Z",
     "iopub.status.busy": "2022-02-20T06:31:41.165494Z",
     "iopub.status.idle": "2022-02-20T06:31:41.173152Z",
     "shell.execute_reply": "2022-02-20T06:31:41.173815Z",
     "shell.execute_reply.started": "2022-02-20T06:28:43.634970Z"
    },
    "papermill": {
     "duration": 0.057512,
     "end_time": "2022-02-20T06:31:41.174000",
     "exception": false,
     "start_time": "2022-02-20T06:31:41.116488",
     "status": "completed"
    },
    "tags": []
   },
   "outputs": [
    {
     "name": "stdout",
     "output_type": "stream",
     "text": [
      "Best Gaussian Mixture Model:\n",
      "GaussianMixture(n_components=4)\n",
      "full\n"
     ]
    }
   ],
   "source": [
    "print(\"Best Gaussian Mixture Model:\\n{}\".format(best_gmm))\n",
    "print(best_gmm.covariance_type)"
   ]
  },
  {
   "cell_type": "code",
   "execution_count": 11,
   "id": "50f5f72f",
   "metadata": {
    "execution": {
     "iopub.execute_input": "2022-02-20T06:31:41.254427Z",
     "iopub.status.busy": "2022-02-20T06:31:41.253897Z",
     "iopub.status.idle": "2022-02-20T06:31:41.406361Z",
     "shell.execute_reply": "2022-02-20T06:31:41.406901Z",
     "shell.execute_reply.started": "2022-02-20T06:28:43.648453Z"
    },
    "papermill": {
     "duration": 0.200608,
     "end_time": "2022-02-20T06:31:41.407052",
     "exception": false,
     "start_time": "2022-02-20T06:31:41.206444",
     "status": "completed"
    },
    "tags": []
   },
   "outputs": [
    {
     "data": {
      "image/png": "[encoded data removed]",
      "text/plain": [
       "<Figure size 432x288 with 1 Axes>"
      ]
     },
     "metadata": {
      "needs_background": "light"
     },
     "output_type": "display_data"
    }
   ],
   "source": [
    "plt.plot(x_train[:,2], x_train[:,3], 'bx')\n",
    "plt.axis('equal')\n",
    "plt.show()"
   ]
  },
  {
   "cell_type": "code",
   "execution_count": 12,
   "id": "8f3a2a60",
   "metadata": {
    "execution": {
     "iopub.execute_input": "2022-02-20T06:31:41.460173Z",
     "iopub.status.busy": "2022-02-20T06:31:41.459409Z",
     "iopub.status.idle": "2022-02-20T06:31:41.694443Z",
     "shell.execute_reply": "2022-02-20T06:31:41.694975Z",
     "shell.execute_reply.started": "2022-02-20T06:28:43.919660Z"
    },
    "papermill": {
     "duration": 0.262999,
     "end_time": "2022-02-20T06:31:41.695131",
     "exception": false,
     "start_time": "2022-02-20T06:31:41.432132",
     "status": "completed"
    },
    "tags": []
   },
   "outputs": [
    {
     "data": {
      "image/png": "[encoded data removed]",
      "text/plain": [
       "<Figure size 432x288 with 1 Axes>"
      ]
     },
     "metadata": {
      "needs_background": "light"
     },
     "output_type": "display_data"
    }
   ],
   "source": [
    "colors = [\"navy\", \"turquoise\", \"darkorange\"]\n",
    "for n, color in enumerate(colors):\n",
    "    data = x_test\n",
    "    plt.scatter(\n",
    "        data[:, 0], data[:, 1], s=0.8, color=color\n",
    "    )"
   ]
  },
  {
   "cell_type": "code",
   "execution_count": 13,
   "id": "eaad662c",
   "metadata": {
    "execution": {
     "iopub.execute_input": "2022-02-20T06:31:41.750358Z",
     "iopub.status.busy": "2022-02-20T06:31:41.749612Z",
     "iopub.status.idle": "2022-02-20T06:31:41.840968Z",
     "shell.execute_reply": "2022-02-20T06:31:41.840528Z",
     "shell.execute_reply.started": "2022-02-20T06:28:44.174847Z"
    },
    "papermill": {
     "duration": 0.120263,
     "end_time": "2022-02-20T06:31:41.841079",
     "exception": false,
     "start_time": "2022-02-20T06:31:41.720816",
     "status": "completed"
    },
    "tags": []
   },
   "outputs": [
    {
     "name": "stdout",
     "output_type": "stream",
     "text": [
      "Best estimator KNN: KNeighborsClassifier() Best Score 0.995995995995996\n"
     ]
    }
   ],
   "source": [
    "#Training\n",
    "knn = KNeighborsClassifier()\n",
    "rf = RandomForestClassifier()\n",
    "\n",
    "param_grid = dict( )\n",
    "#### GRID SEARCH for BEST TUNING PARAMETERS FOR KNN #####\n",
    "grid_search_knn = GridSearchCV(knn,param_grid=param_grid,cv=10,scoring='accuracy').fit(x_train,y_train)\n",
    "print ('Best estimator KNN:',grid_search_knn.best_estimator_,\n",
    "       'Best Score', grid_search_knn.best_estimator_.score(x_train,y_train))\n",
    "\n",
    "knn_best = grid_search_knn.best_estimator_\n",
    "\n"
   ]
  },
  {
   "cell_type": "code",
   "execution_count": 14,
   "id": "fad711fc",
   "metadata": {
    "execution": {
     "iopub.execute_input": "2022-02-20T06:31:41.893507Z",
     "iopub.status.busy": "2022-02-20T06:31:41.892786Z",
     "iopub.status.idle": "2022-02-20T06:31:44.382154Z",
     "shell.execute_reply": "2022-02-20T06:31:44.381637Z",
     "shell.execute_reply.started": "2022-02-20T06:28:44.309558Z"
    },
    "papermill": {
     "duration": 2.51629,
     "end_time": "2022-02-20T06:31:44.382277",
     "exception": false,
     "start_time": "2022-02-20T06:31:41.865987",
     "status": "completed"
    },
    "tags": []
   },
   "outputs": [
    {
     "name": "stdout",
     "output_type": "stream",
     "text": [
      "Fitting 10 folds for each of 1 candidates, totalling 10 fits\n",
      "[CV]  ................................................................\n",
      "[CV] .................................... , score=1.000, total=   0.2s\n",
      "[CV]  ................................................................\n"
     ]
    },
    {
     "name": "stderr",
     "output_type": "stream",
     "text": [
      "[Parallel(n_jobs=1)]: Using backend SequentialBackend with 1 concurrent workers.\n",
      "[Parallel(n_jobs=1)]: Done   1 out of   1 | elapsed:    0.2s remaining:    0.0s\n"
     ]
    },
    {
     "name": "stdout",
     "output_type": "stream",
     "text": [
      "[CV] .................................... , score=1.000, total=   0.2s\n",
      "[CV]  ................................................................\n"
     ]
    },
    {
     "name": "stderr",
     "output_type": "stream",
     "text": [
      "[Parallel(n_jobs=1)]: Done   2 out of   2 | elapsed:    0.4s remaining:    0.0s\n"
     ]
    },
    {
     "name": "stdout",
     "output_type": "stream",
     "text": [
      "[CV] .................................... , score=1.000, total=   0.2s\n",
      "[CV]  ................................................................\n",
      "[CV] .................................... , score=0.990, total=   0.2s\n",
      "[CV]  ................................................................\n",
      "[CV] .................................... , score=1.000, total=   0.2s\n",
      "[CV]  ................................................................\n",
      "[CV] .................................... , score=1.000, total=   0.2s\n",
      "[CV]  ................................................................\n",
      "[CV] .................................... , score=0.990, total=   0.2s\n",
      "[CV]  ................................................................\n",
      "[CV] .................................... , score=1.000, total=   0.2s\n",
      "[CV]  ................................................................\n",
      "[CV] .................................... , score=0.980, total=   0.2s\n",
      "[CV]  ................................................................\n",
      "[CV] .................................... , score=1.000, total=   0.2s\n"
     ]
    },
    {
     "name": "stderr",
     "output_type": "stream",
     "text": [
      "[Parallel(n_jobs=1)]: Done  10 out of  10 | elapsed:    2.2s finished\n"
     ]
    },
    {
     "name": "stdout",
     "output_type": "stream",
     "text": [
      "Best estimator RandomForest: RandomForestClassifier() Best Score 0.997997997997998\n"
     ]
    }
   ],
   "source": [
    "#### GRID SEARCH for BEST TUNING PARAMETERS FOR RandomForest #####\n",
    "grid_search_rf = GridSearchCV(rf, param_grid=dict( ), verbose=3,scoring='accuracy',cv=10).fit(x_train,y_train)\n",
    "print ('Best estimator RandomForest:',grid_search_rf.best_estimator_,\n",
    "        'Best Score', grid_search_rf.best_estimator_.score(x_train,y_train))\n",
    "rf_best = grid_search_rf.best_estimator_"
   ]
  },
  {
   "cell_type": "code",
   "execution_count": 15,
   "id": "3864e06e",
   "metadata": {
    "execution": {
     "iopub.execute_input": "2022-02-20T06:31:44.454763Z",
     "iopub.status.busy": "2022-02-20T06:31:44.454232Z",
     "iopub.status.idle": "2022-02-20T06:31:45.099019Z",
     "shell.execute_reply": "2022-02-20T06:31:45.098474Z",
     "shell.execute_reply.started": "2022-02-20T06:28:46.640042Z"
    },
    "papermill": {
     "duration": 0.685501,
     "end_time": "2022-02-20T06:31:45.099136",
     "exception": false,
     "start_time": "2022-02-20T06:31:44.413635",
     "status": "completed"
    },
    "tags": []
   },
   "outputs": [
    {
     "name": "stdout",
     "output_type": "stream",
     "text": [
      "[0 1 0 0 0 0 1 0 0 1]\n",
      "[0 1 0 0 0 0 1 0 0 1]\n"
     ]
    }
   ],
   "source": [
    "knn_best.fit(x_train,y_train)\n",
    "print(knn_best.predict(x_test)[0:10])\n",
    "rf_best.fit(x_train,y_train)\n",
    "print(rf_best.predict(x_test)[0:10])"
   ]
  },
  {
   "cell_type": "code",
   "execution_count": 16,
   "id": "80eb37d3",
   "metadata": {
    "execution": {
     "iopub.execute_input": "2022-02-20T06:31:45.168170Z",
     "iopub.status.busy": "2022-02-20T06:31:45.167605Z",
     "iopub.status.idle": "2022-02-20T06:31:46.791478Z",
     "shell.execute_reply": "2022-02-20T06:31:46.790526Z",
     "shell.execute_reply.started": "2022-02-20T06:28:47.244840Z"
    },
    "papermill": {
     "duration": 1.66159,
     "end_time": "2022-02-20T06:31:46.791630",
     "exception": false,
     "start_time": "2022-02-20T06:31:45.130040",
     "status": "completed"
    },
    "tags": []
   },
   "outputs": [
    {
     "name": "stdout",
     "output_type": "stream",
     "text": [
      "Score for KNN : 0.9960000000000001\n",
      "Score for Random Forest : 0.9960000000000001\n"
     ]
    }
   ],
   "source": [
    "#### SCORING THE MODELS ####\n",
    "print( 'Score for KNN :',cross_val_score(knn_best,x_train,y_train,cv=10,scoring='accuracy').mean())\n",
    "print('Score for Random Forest :',cross_val_score(rf_best,x_train,y_train,cv=10,scoring='accuracy').mean())"
   ]
  },
  {
   "cell_type": "code",
   "execution_count": 17,
   "id": "95f01d4c",
   "metadata": {
    "execution": {
     "iopub.execute_input": "2022-02-20T06:31:46.897355Z",
     "iopub.status.busy": "2022-02-20T06:31:46.896527Z",
     "iopub.status.idle": "2022-02-20T06:31:47.353540Z",
     "shell.execute_reply": "2022-02-20T06:31:47.352737Z",
     "shell.execute_reply.started": "2022-02-20T06:28:49.385962Z"
    },
    "papermill": {
     "duration": 0.51574,
     "end_time": "2022-02-20T06:31:47.353878",
     "exception": false,
     "start_time": "2022-02-20T06:31:46.838138",
     "status": "completed"
    },
    "tags": []
   },
   "outputs": [],
   "source": [
    "##### FRAMING OUR SOLUTION #####\n",
    "knn_best_pred = pd.DataFrame(knn_best.predict(x_test))\n",
    "rf_best_pred = pd.DataFrame(rf_best.predict(x_test))\n",
    "#voting_clf_pred = pd.DataFrame(clf.predict(x_test))"
   ]
  },
  {
   "cell_type": "code",
   "execution_count": 18,
   "id": "5a091fbc",
   "metadata": {
    "execution": {
     "iopub.execute_input": "2022-02-20T06:31:47.455145Z",
     "iopub.status.busy": "2022-02-20T06:31:47.453529Z",
     "iopub.status.idle": "2022-02-20T06:31:47.459155Z",
     "shell.execute_reply": "2022-02-20T06:31:47.459730Z",
     "shell.execute_reply.started": "2022-02-20T06:28:49.785191Z"
    },
    "papermill": {
     "duration": 0.05699,
     "end_time": "2022-02-20T06:31:47.459934",
     "exception": false,
     "start_time": "2022-02-20T06:31:47.402944",
     "status": "completed"
    },
    "tags": []
   },
   "outputs": [],
   "source": [
    "#Formatting the output as per requirement\n",
    "knn_best_pred.index += 1\n",
    "rf_best_pred.index += 1\n"
   ]
  },
  {
   "cell_type": "code",
   "execution_count": 19,
   "id": "7fbba7ee",
   "metadata": {
    "execution": {
     "iopub.execute_input": "2022-02-20T06:31:47.569288Z",
     "iopub.status.busy": "2022-02-20T06:31:47.568582Z",
     "iopub.status.idle": "2022-02-20T06:31:47.574247Z",
     "shell.execute_reply": "2022-02-20T06:31:47.574835Z",
     "shell.execute_reply.started": "2022-02-20T06:28:49.791754Z"
    },
    "papermill": {
     "duration": 0.065134,
     "end_time": "2022-02-20T06:31:47.575024",
     "exception": false,
     "start_time": "2022-02-20T06:31:47.509890",
     "status": "completed"
    },
    "tags": []
   },
   "outputs": [],
   "source": [
    "rf_best_pred.columns = [\"Solution\"]\n",
    "rf_best_pred[\"Id\"] = rf_best_pred.index\n"
   ]
  },
  {
   "cell_type": "code",
   "execution_count": 20,
   "id": "0774bf48",
   "metadata": {
    "execution": {
     "iopub.execute_input": "2022-02-20T06:31:47.672677Z",
     "iopub.status.busy": "2022-02-20T06:31:47.672008Z",
     "iopub.status.idle": "2022-02-20T06:31:47.689385Z",
     "shell.execute_reply": "2022-02-20T06:31:47.689927Z",
     "shell.execute_reply.started": "2022-02-20T06:28:49.804493Z"
    },
    "papermill": {
     "duration": 0.068447,
     "end_time": "2022-02-20T06:31:47.690082",
     "exception": false,
     "start_time": "2022-02-20T06:31:47.621635",
     "status": "completed"
    },
    "tags": []
   },
   "outputs": [
    {
     "data": {
      "text/html": [
       "<div>\n",
       "<style scoped>\n",
       "    .dataframe tbody tr th:only-of-type {\n",
       "        vertical-align: middle;\n",
       "    }\n",
       "\n",
       "    .dataframe tbody tr th {\n",
       "        vertical-align: top;\n",
       "    }\n",
       "\n",
       "    .dataframe thead th {\n",
       "        text-align: right;\n",
       "    }\n",
       "</style>\n",
       "<table border=\"1\" class=\"dataframe\">\n",
       "  <thead>\n",
       "    <tr style=\"text-align: right;\">\n",
       "      <th></th>\n",
       "      <th>Id</th>\n",
       "      <th>Solution</th>\n",
       "    </tr>\n",
       "  </thead>\n",
       "  <tbody>\n",
       "    <tr>\n",
       "      <th>1</th>\n",
       "      <td>1</td>\n",
       "      <td>0</td>\n",
       "    </tr>\n",
       "    <tr>\n",
       "      <th>2</th>\n",
       "      <td>2</td>\n",
       "      <td>1</td>\n",
       "    </tr>\n",
       "    <tr>\n",
       "      <th>3</th>\n",
       "      <td>3</td>\n",
       "      <td>0</td>\n",
       "    </tr>\n",
       "    <tr>\n",
       "      <th>4</th>\n",
       "      <td>4</td>\n",
       "      <td>0</td>\n",
       "    </tr>\n",
       "    <tr>\n",
       "      <th>5</th>\n",
       "      <td>5</td>\n",
       "      <td>0</td>\n",
       "    </tr>\n",
       "  </tbody>\n",
       "</table>\n",
       "</div>"
      ],
      "text/plain": [
       "   Id  Solution\n",
       "1   1         0\n",
       "2   2         1\n",
       "3   3         0\n",
       "4   4         0\n",
       "5   5         0"
      ]
     },
     "execution_count": 20,
     "metadata": {},
     "output_type": "execute_result"
    }
   ],
   "source": [
    "neworder = [\"Id\",\"Solution\"]\n",
    "rf_best_pred = rf_best_pred.reindex(columns = neworder)\n",
    "rf_best_pred.head()"
   ]
  },
  {
   "cell_type": "code",
   "execution_count": 21,
   "id": "1cef9319",
   "metadata": {
    "execution": {
     "iopub.execute_input": "2022-02-20T06:31:47.790017Z",
     "iopub.status.busy": "2022-02-20T06:31:47.789284Z",
     "iopub.status.idle": "2022-02-20T06:31:47.793050Z",
     "shell.execute_reply": "2022-02-20T06:31:47.793591Z",
     "shell.execute_reply.started": "2022-02-20T06:29:19.076870Z"
    },
    "papermill": {
     "duration": 0.055435,
     "end_time": "2022-02-20T06:31:47.793761",
     "exception": false,
     "start_time": "2022-02-20T06:31:47.738326",
     "status": "completed"
    },
    "tags": []
   },
   "outputs": [
    {
     "data": {
      "text/plain": [
       "(8999, 2)"
      ]
     },
     "execution_count": 21,
     "metadata": {},
     "output_type": "execute_result"
    }
   ],
   "source": [
    "rf_best_pred.shape"
   ]
  },
  {
   "cell_type": "code",
   "execution_count": 22,
   "id": "a13b3d63",
   "metadata": {
    "execution": {
     "iopub.execute_input": "2022-02-20T06:31:47.893057Z",
     "iopub.status.busy": "2022-02-20T06:31:47.892339Z",
     "iopub.status.idle": "2022-02-20T06:31:47.908392Z",
     "shell.execute_reply": "2022-02-20T06:31:47.907665Z",
     "shell.execute_reply.started": "2022-02-20T06:30:17.652974Z"
    },
    "papermill": {
     "duration": 0.066647,
     "end_time": "2022-02-20T06:31:47.908532",
     "exception": false,
     "start_time": "2022-02-20T06:31:47.841885",
     "status": "completed"
    },
    "tags": []
   },
   "outputs": [],
   "source": [
    "rf_best_pred.to_csv('Submission.csv',index = False,header = True)"
   ]
  },
  {
   "cell_type": "code",
   "execution_count": null,
   "id": "77d8c7c8",
   "metadata": {
    "papermill": {
     "duration": 0.04639,
     "end_time": "2022-02-20T06:31:48.002271",
     "exception": false,
     "start_time": "2022-02-20T06:31:47.955881",
     "status": "completed"
    },
    "tags": []
   },
   "outputs": [],
   "source": []
  }
 ],
 "metadata": {
  "kernelspec": {
   "display_name": "Python 3",
   "language": "python",
   "name": "python3"
  },
  "language_info": {
   "codemirror_mode": {
    "name": "ipython",
    "version": 3
   },
   "file_extension": ".py",
   "mimetype": "text/x-python",
   "name": "python",
   "nbconvert_exporter": "python",
   "pygments_lexer": "ipython3",
   "version": "3.7.12"
  },
  "papermill": {
   "default_parameters": {},
   "duration": 52.466748,
   "end_time": "2022-02-20T06:31:48.865619",
   "environment_variables": {},
   "exception": null,
   "input_path": "__notebook__.ipynb",
   "output_path": "__notebook__.ipynb",
   "parameters": {},
   "start_time": "2022-02-20T06:30:56.398871",
   "version": "2.3.3"
  }
 },
 "nbformat": 4,
 "nbformat_minor": 5
}
